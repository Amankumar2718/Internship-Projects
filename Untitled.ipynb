{
 "cells": [
  {
   "cell_type": "code",
   "execution_count": 1,
   "id": "a3ff1bf0",
   "metadata": {},
   "outputs": [],
   "source": [
    "import pandas as pd"
   ]
  },
  {
   "cell_type": "code",
   "execution_count": 2,
   "id": "6529f6ab",
   "metadata": {},
   "outputs": [],
   "source": [
    "import os"
   ]
  },
  {
   "cell_type": "markdown",
   "id": "7ff2e631",
   "metadata": {},
   "source": [
    "# Load Dataset"
   ]
  },
  {
   "cell_type": "code",
   "execution_count": 3,
   "id": "4644152b",
   "metadata": {},
   "outputs": [],
   "source": [
    "file=r'C:\\Users\\amanb\\Downloads\\netflix_titles.csv'\n",
    "df=pd.read_csv(file)"
   ]
  },
  {
   "cell_type": "markdown",
   "id": "e393a91e",
   "metadata": {},
   "source": [
    "# Preview Dataset structure"
   ]
  },
  {
   "cell_type": "code",
   "execution_count": 4,
   "id": "29b105d2",
   "metadata": {},
   "outputs": [
    {
     "name": "stdout",
     "output_type": "stream",
     "text": [
      "\n",
      " Dataset Info:\n",
      "<class 'pandas.core.frame.DataFrame'>\n",
      "RangeIndex: 8807 entries, 0 to 8806\n",
      "Data columns (total 12 columns):\n",
      " #   Column        Non-Null Count  Dtype \n",
      "---  ------        --------------  ----- \n",
      " 0   show_id       8807 non-null   object\n",
      " 1   type          8807 non-null   object\n",
      " 2   title         8807 non-null   object\n",
      " 3   director      6173 non-null   object\n",
      " 4   cast          7982 non-null   object\n",
      " 5   country       7976 non-null   object\n",
      " 6   date_added    8797 non-null   object\n",
      " 7   release_year  8807 non-null   int64 \n",
      " 8   rating        8803 non-null   object\n",
      " 9   duration      8804 non-null   object\n",
      " 10  listed_in     8807 non-null   object\n",
      " 11  description   8807 non-null   object\n",
      "dtypes: int64(1), object(11)\n",
      "memory usage: 825.8+ KB\n",
      "\n",
      " First 5 rows:\n",
      "  show_id     type                  title         director  \\\n",
      "0      s1    Movie   Dick Johnson Is Dead  Kirsten Johnson   \n",
      "1      s2  TV Show          Blood & Water              NaN   \n",
      "2      s3  TV Show              Ganglands  Julien Leclercq   \n",
      "3      s4  TV Show  Jailbirds New Orleans              NaN   \n",
      "4      s5  TV Show           Kota Factory              NaN   \n",
      "\n",
      "                                                cast        country  \\\n",
      "0                                                NaN  United States   \n",
      "1  Ama Qamata, Khosi Ngema, Gail Mabalane, Thaban...   South Africa   \n",
      "2  Sami Bouajila, Tracy Gotoas, Samuel Jouy, Nabi...            NaN   \n",
      "3                                                NaN            NaN   \n",
      "4  Mayur More, Jitendra Kumar, Ranjan Raj, Alam K...          India   \n",
      "\n",
      "           date_added  release_year rating   duration  \\\n",
      "0  September 25, 2021          2020  PG-13     90 min   \n",
      "1  September 24, 2021          2021  TV-MA  2 Seasons   \n",
      "2  September 24, 2021          2021  TV-MA   1 Season   \n",
      "3  September 24, 2021          2021  TV-MA   1 Season   \n",
      "4  September 24, 2021          2021  TV-MA  2 Seasons   \n",
      "\n",
      "                                           listed_in  \\\n",
      "0                                      Documentaries   \n",
      "1    International TV Shows, TV Dramas, TV Mysteries   \n",
      "2  Crime TV Shows, International TV Shows, TV Act...   \n",
      "3                             Docuseries, Reality TV   \n",
      "4  International TV Shows, Romantic TV Shows, TV ...   \n",
      "\n",
      "                                         description  \n",
      "0  As her father nears the end of his life, filmm...  \n",
      "1  After crossing paths at a party, a Cape Town t...  \n",
      "2  To protect his family from a powerful drug lor...  \n",
      "3  Feuds, flirtations and toilet talk go down amo...  \n",
      "4  In a city of coaching centers known to train I...  \n"
     ]
    }
   ],
   "source": [
    "print(\"\\n Dataset Info:\")\n",
    "df.info()\n",
    "print(\"\\n First 5 rows:\")\n",
    "print(df.head())"
   ]
  },
  {
   "cell_type": "markdown",
   "id": "70c9c34b",
   "metadata": {},
   "source": [
    "# Check for Missing values"
   ]
  },
  {
   "cell_type": "code",
   "execution_count": 5,
   "id": "23c07f0c",
   "metadata": {},
   "outputs": [
    {
     "name": "stdout",
     "output_type": "stream",
     "text": [
      "\n",
      " Missing Values in each column:\n",
      "show_id            0\n",
      "type               0\n",
      "title              0\n",
      "director        2634\n",
      "cast             825\n",
      "country          831\n",
      "date_added        10\n",
      "release_year       0\n",
      "rating             4\n",
      "duration           3\n",
      "listed_in          0\n",
      "description        0\n",
      "dtype: int64\n"
     ]
    }
   ],
   "source": [
    "print(\"\\n Missing Values in each column:\")\n",
    "print(df.isnull().sum())"
   ]
  },
  {
   "cell_type": "markdown",
   "id": "4f580e25",
   "metadata": {},
   "source": [
    "# Handling Missing Values"
   ]
  },
  {
   "cell_type": "code",
   "execution_count": 6,
   "id": "789f63e8",
   "metadata": {},
   "outputs": [],
   "source": [
    "if 'director' in df.columns:\n",
    "    df['director']=df['director'].fillna('unknown')\n",
    "if 'cast' in df.columns:\n",
    "    df['cast']=df['cast'].fillna('un_identical')\n",
    "if 'country' in df.columns:\n",
    "    df['country']=df['country'].fillna('world')\n",
    "if 'date_added' in df.columns:\n",
    "    df= df.dropna(subset=['date_added'])\n",
    "if 'rating' in df.columns:\n",
    "    df['rating']=df['rating'].fillna('cool')"
   ]
  },
  {
   "cell_type": "markdown",
   "id": "06620637",
   "metadata": {},
   "source": [
    "# Remove duplicates Rows"
   ]
  },
  {
   "cell_type": "code",
   "execution_count": 7,
   "id": "c7007e1d",
   "metadata": {},
   "outputs": [
    {
     "name": "stdout",
     "output_type": "stream",
     "text": [
      "\n",
      " Duplicate Rows before Cleaning: 0\n",
      "\n",
      " Duoplicate rows after Cleaning: 0\n"
     ]
    }
   ],
   "source": [
    "print(f\"\\n Duplicate Rows before Cleaning: {df.duplicated().sum()}\")\n",
    "df=df.drop_duplicates()\n",
    "print(f\"\\n Duoplicate rows after Cleaning: {df.duplicated().sum()}\")"
   ]
  },
  {
   "cell_type": "markdown",
   "id": "5b85cf76",
   "metadata": {},
   "source": [
    "# Standardize Text Columns (lowercase + trim space)"
   ]
  },
  {
   "cell_type": "code",
   "execution_count": 8,
   "id": "af923b65",
   "metadata": {},
   "outputs": [],
   "source": [
    "text_columns=['type','title','director','cast','country','rating']\n",
    "for col in text_columns:\n",
    "    if col in df.columns and df[col].dtype == 'object':\n",
    "        df[col]=df[col].str.lower().str.strip()"
   ]
  },
  {
   "cell_type": "markdown",
   "id": "8da9d836",
   "metadata": {},
   "source": [
    "# Rename columns to lowercase and use underscores"
   ]
  },
  {
   "cell_type": "code",
   "execution_count": 9,
   "id": "dab9dac8",
   "metadata": {},
   "outputs": [],
   "source": [
    "df.columns = df.columns.str.lower().str.strip().str.replace(' ','_')"
   ]
  },
  {
   "cell_type": "markdown",
   "id": "9ef2aa06",
   "metadata": {},
   "source": [
    "# Convert Date Columns to Datetime format"
   ]
  },
  {
   "cell_type": "code",
   "execution_count": 10,
   "id": "91c4b953",
   "metadata": {},
   "outputs": [],
   "source": [
    "if 'date_added' in df.columns:\n",
    "    df['date_added'] = pd.to_datetime(df['date_added'],dayfirst=True, errors='coerce')"
   ]
  },
  {
   "cell_type": "markdown",
   "id": "46b882e8",
   "metadata": {},
   "source": [
    "# Fix Data types"
   ]
  },
  {
   "cell_type": "code",
   "execution_count": 11,
   "id": "1b31d7df",
   "metadata": {},
   "outputs": [],
   "source": [
    "if 'release_year' in df.columns:\n",
    "    df['release_year']=df['release_year'].astype(int)"
   ]
  },
  {
   "cell_type": "markdown",
   "id": "ce2deeef",
   "metadata": {},
   "source": [
    "# Save Cleaned Dataset in the same folder as Raw File"
   ]
  },
  {
   "cell_type": "code",
   "execution_count": 14,
   "id": "6d684ef7",
   "metadata": {},
   "outputs": [
    {
     "name": "stdout",
     "output_type": "stream",
     "text": [
      "\n",
      "✅ Cleaned dataset saved as:\n",
      "C:\\Users\\amanb\\Downloads\\netflix_titles_cleaned.csv\n"
     ]
    }
   ],
   "source": [
    "output_path = os.path.join(os.path.dirname(file), 'netflix_titles_cleaned.csv')\n",
    "df.to_csv(output_path, index=False)\n",
    "print(f\"\\n✅ Cleaned dataset saved as:\\n{output_path}\")"
   ]
  },
  {
   "cell_type": "markdown",
   "id": "8764df0d",
   "metadata": {},
   "source": [
    "# Comparison Between Raw and Cleaned"
   ]
  },
  {
   "cell_type": "code",
   "execution_count": 17,
   "id": "89c3b328",
   "metadata": {},
   "outputs": [],
   "source": [
    "raw = r'C:\\Users\\amanb\\OneDrive\\Documents\\netflix_titles.csv'\n",
    "cleaned = r'C:\\Users\\amanb\\Downloads\\netflix_titles_cleaned.csv'"
   ]
  },
  {
   "cell_type": "markdown",
   "id": "fe477271",
   "metadata": {},
   "source": [
    "# Load Datasets"
   ]
  },
  {
   "cell_type": "code",
   "execution_count": 34,
   "id": "0fa34f35",
   "metadata": {},
   "outputs": [],
   "source": [
    "df_raw = pd.read_csv(raw)\n",
    "df_clean = pd.read_csv(cleaned)"
   ]
  },
  {
   "cell_type": "markdown",
   "id": "d55de37c",
   "metadata": {},
   "source": [
    "# Comparison Summary"
   ]
  },
  {
   "cell_type": "code",
   "execution_count": 35,
   "id": "4d520052",
   "metadata": {},
   "outputs": [
    {
     "name": "stdout",
     "output_type": "stream",
     "text": [
      "Raw     : (8807, 12)\n",
      "Cleaned : (8797, 12)\n"
     ]
    }
   ],
   "source": [
    "print(\"Raw     :\", df_raw.shape)\n",
    "print(\"Cleaned :\", df_clean.shape)"
   ]
  },
  {
   "cell_type": "markdown",
   "id": "9975fe80",
   "metadata": {},
   "source": [
    "# Missing Values"
   ]
  },
  {
   "cell_type": "code",
   "execution_count": 36,
   "id": "8a6f299e",
   "metadata": {},
   "outputs": [
    {
     "name": "stdout",
     "output_type": "stream",
     "text": [
      "\n",
      " MISSING VALUES:\n",
      "Raw:\n",
      " show_id            0\n",
      "type               0\n",
      "title              0\n",
      "director        2634\n",
      "cast             825\n",
      "country          831\n",
      "date_added        10\n",
      "release_year       0\n",
      "rating             4\n",
      "duration           3\n",
      "listed_in          0\n",
      "description        0\n",
      "dtype: int64\n",
      "\n",
      "Cleaned:\n",
      " show_id         0\n",
      "type            0\n",
      "title           0\n",
      "director        0\n",
      "cast            0\n",
      "country         0\n",
      "date_added      0\n",
      "release_year    0\n",
      "rating          0\n",
      "duration        3\n",
      "listed_in       0\n",
      "description     0\n",
      "dtype: int64\n"
     ]
    }
   ],
   "source": [
    "print(\"\\n MISSING VALUES:\")\n",
    "print(\"Raw:\\n\", df_raw.isnull().sum())\n",
    "print(\"\\nCleaned:\\n\", df_clean.isnull().sum())"
   ]
  },
  {
   "cell_type": "markdown",
   "id": "af4dd369",
   "metadata": {},
   "source": [
    "# Duplicates"
   ]
  },
  {
   "cell_type": "code",
   "execution_count": 37,
   "id": "30086509",
   "metadata": {},
   "outputs": [
    {
     "name": "stdout",
     "output_type": "stream",
     "text": [
      "\n",
      " DUPLICATES:\n",
      "Raw     : 0\n",
      "Cleaned : 0\n"
     ]
    }
   ],
   "source": [
    "print(\"\\n DUPLICATES:\")\n",
    "print(\"Raw     :\", df_raw.duplicated().sum())\n",
    "print(\"Cleaned :\", df_clean.duplicated().sum())"
   ]
  },
  {
   "cell_type": "markdown",
   "id": "76500187",
   "metadata": {},
   "source": [
    "# Column Names"
   ]
  },
  {
   "cell_type": "code",
   "execution_count": 38,
   "id": "d32cac6e",
   "metadata": {},
   "outputs": [
    {
     "name": "stdout",
     "output_type": "stream",
     "text": [
      "\n",
      " COLUMN NAMES:\n",
      "Raw     : ['show_id', 'type', 'title', 'director', 'cast', 'country', 'date_added', 'release_year', 'rating', 'duration', 'listed_in', 'description']\n",
      "Cleaned : ['show_id', 'type', 'title', 'director', 'cast', 'country', 'date_added', 'release_year', 'rating', 'duration', 'listed_in', 'description']\n"
     ]
    }
   ],
   "source": [
    "print(\"\\n COLUMN NAMES:\")\n",
    "print(\"Raw     :\", list(df_raw.columns))\n",
    "print(\"Cleaned :\", list(df_clean.columns))"
   ]
  },
  {
   "cell_type": "markdown",
   "id": "b1a356ea",
   "metadata": {},
   "source": [
    "# Data Type"
   ]
  },
  {
   "cell_type": "code",
   "execution_count": 39,
   "id": "634cb6ee",
   "metadata": {},
   "outputs": [
    {
     "name": "stdout",
     "output_type": "stream",
     "text": [
      "\n",
      " 'date_added' TYPE:\n",
      "Raw     : object\n",
      "Cleaned : object\n"
     ]
    }
   ],
   "source": [
    "print(\"\\n 'date_added' TYPE:\")\n",
    "print(\"Raw     :\", df_raw['date_added'].dtype)\n",
    "print(\"Cleaned :\", df_clean['date_added'].dtype)"
   ]
  },
  {
   "cell_type": "markdown",
   "id": "45a6e92c",
   "metadata": {},
   "source": [
    "# Overall equality Check"
   ]
  },
  {
   "cell_type": "code",
   "execution_count": 40,
   "id": "cab9dc45",
   "metadata": {
    "scrolled": true
   },
   "outputs": [
    {
     "name": "stdout",
     "output_type": "stream",
     "text": [
      "\n",
      " IDENTICAL DATASETS: False\n"
     ]
    }
   ],
   "source": [
    "equal = df_raw.sort_values(by='show_id').reset_index(drop=True).equals(\n",
    "         df_clean.sort_values(by='show_id').reset_index(drop=True))\n",
    "print(\"\\n IDENTICAL DATASETS:\", equal)"
   ]
  }
 ],
 "metadata": {
  "kernelspec": {
   "display_name": "Python 3 (ipykernel)",
   "language": "python",
   "name": "python3"
  },
  "language_info": {
   "codemirror_mode": {
    "name": "ipython",
    "version": 3
   },
   "file_extension": ".py",
   "mimetype": "text/x-python",
   "name": "python",
   "nbconvert_exporter": "python",
   "pygments_lexer": "ipython3",
   "version": "3.9.13"
  }
 },
 "nbformat": 4,
 "nbformat_minor": 5
}
